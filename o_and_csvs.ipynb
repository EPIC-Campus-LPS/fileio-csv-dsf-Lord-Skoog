{
 "cells": [
  {
   "cell_type": "code",
   "execution_count": 5,
   "metadata": {},
   "outputs": [
    {
     "name": "stdout",
     "output_type": "stream",
     "text": [
      "welcome to notebook\n"
     ]
    }
   ],
   "source": [
    "msg = 'welcome to notebook'\n",
    "print(msg)"
   ]
  },
  {
   "cell_type": "code",
   "execution_count": 12,
   "metadata": {},
   "outputs": [
    {
     "name": "stdout",
     "output_type": "stream",
     "text": [
      "{'a': 137770, 'b': 31898, 'c': 63100, 'd': 73152, 'e': 212474, 'f': 48298, 'g': 26924, 'h': 114028, 'i': 130028, 'j': 1424, 'k': 7824, 'l': 64460, 'm': 40840, 'n': 125738, 'o': 136400, 'p': 29558, 'q': 1828, 'r': 105872, 's': 109408, 't': 164548, 'u': 44754, 'v': 15062, 'w': 30222, 'x': 3144, 'y': 24468, 'z': 418}\n"
     ]
    }
   ],
   "source": [
    "dict = {'a': 0,'b': 0,'c': 0,'d': 0,'e': 0,'f': 0,'g': 0,'h': 0,'i': 0,'j': 0,'k': 0,'l': 0,'m': 0,'n': 0,'o': 0,'p': 0,'q': 0,'r': 0,'s': 0,'t': 0,'u': 0 ,'v': 0,'w': 0 ,'x': 0,'y': 0,'z': 0 }\n",
    "z = 0\n",
    "if z == 0:\n",
    "    book = 'scotland.txt'\n",
    "if z == 1:\n",
    "    book == 'night.txt'\n",
    "if z == 2:\n",
    "    book == 'oxford.txt'\n",
    "while z != 2:\n",
    "    with open(book, 'r') as file:\n",
    "        file = file.readlines()\n",
    "        i = 0\n",
    "        while i != len(file):\n",
    "            x = str(file[i])\n",
    "            x = x.replace(' ', '').strip('').strip(',')\n",
    "            x = x.lower()\n",
    "            e = 0\n",
    "            while e != len(x):\n",
    "                if x[e] in dict:\n",
    "                    dict[x[e]] += 1\n",
    "                    e += 1\n",
    "                else:\n",
    "                    e += 1\n",
    "                    pass\n",
    "            i += 1\n",
    "    z += 1\n",
    "print(dict)\n"
   ]
  },
  {
   "cell_type": "code",
   "execution_count": 17,
   "metadata": {},
   "outputs": [
    {
     "name": "stdout",
     "output_type": "stream",
     "text": [
      "{'a': 16800, 'b': 2520, 'c': 2100, 'd': 2100, 'e': 420, 'f': 1680, 'g': 0, 'h': 16380, 'i': 2520, 'j': 4620, 'k': 5460, 'l': 24360, 'm': 2100, 'n': 3360, 'o': 7980, 'p': 11760, 'q': 0, 'r': 420, 's': 6300, 't': 3780, 'u': 9240, 'v': 10500, 'w': 7560, 'x': 0, 'y': 13860, 'z': 13860}\n"
     ]
    }
   ],
   "source": [
    "dict = {'a': 0,'b': 0,'c': 0,'d': 0,'e': 0,'f': 0,'g': 0,'h': 0,'i': 0,'j': 0,'k': 0,'l': 0,'m': 0,'n': 0,'o': 0,'p': 0,'q': 0,'r': 0,'s': 0,'t': 0,'u': 0 ,'v': 0,'w': 0 ,'x': 0,'y': 0,'z': 0 }\n",
    "def main():\n",
    "    x = \"PA PZ H WLYPVK VM JPCPS DHY. YLILS ZWHJLZOPWZ, ZAYPRPUN MYVT H OPKKLU IHZL, OHCL DVU AOLPY MPYZA CPJAVYF HNHPUZA AOL LCPS NHSHJAPJ LTWPYL. KBYPUN AOL IHAASL, YLILS ZWPLZ THUHNLK AV ZALHS ZLJYLA WSHUZ AV AOL LTWLYVY'Z BSAPTHAL DLHWVU, AOL KLHAO ZAHY, HU HYTVYLK ZWHJL ZAHAPVU DPAO LUVBNO WVDLY AV KLZAYVF HU LUAPYL WSHULA. WBYZBLK IF AOL LTWLYVY'Z ZPUPZALY HNLUAZ, WYPUJLZZ SLPH YHJLZ OVTL HIVHYK OLY ZAHYZOPW, JBZAVKPHU VM AOL ZAVSLU WSHUZ AOHA JHU ZHCL OLY WLVWSL HUK YLZAVYL MYLLKVT AV AOL NHSHEF ....\"\n",
    "    x = frequency(x)\n",
    "    print(dict)\n",
    "\n",
    "def frequency(x):\n",
    "    i = 0\n",
    "    while i != len(x):\n",
    "            x = str(x)\n",
    "            x = x.replace(' ', '').strip('').strip(',')\n",
    "            x = x.lower()\n",
    "            e = 0\n",
    "            while e != len(x):\n",
    "                if x[e] in dict:\n",
    "                    dict[x[e]] += 1\n",
    "                    e += 1\n",
    "                else:\n",
    "                    e += 1\n",
    "                    pass\n",
    "            i += 1\n",
    "\n",
    "#result is the starwars opening credits\n",
    "#it was encoded with a ceaser cipher, shifted 7 \n",
    "if __name__ == '__main__':\n",
    "    main()"
   ]
  },
  {
   "cell_type": "code",
   "execution_count": 48,
   "metadata": {},
   "outputs": [
    {
     "name": "stdout",
     "output_type": "stream",
     "text": [
      "[(10, '41.241.198.100'), (8, '237.227.142.204'), (6, '65.140.160.255')]\n"
     ]
    }
   ],
   "source": [
    "ip = []\n",
    "freq = {}\n",
    "\n",
    "with open('server_log.txt', 'r') as file:   #opens log\n",
    "    lines = file.readlines()\n",
    "i = 0 \n",
    "while i != len(lines):      #gets the Ip's and isolates them \n",
    "    adress = lines[i]\n",
    "    adress = adress.split('-')\n",
    "    ip.append(adress[0])\n",
    "    i += 1\n",
    "\n",
    "x = 0 \n",
    "while x != len(ip): #puts Ip adresses into a dicitonary in order to guage frequency\n",
    "    if ip[x] in freq:\n",
    "        freq[ip[x]] += 1\n",
    "        x += 1\n",
    "    else:\n",
    "        freq[ip[x]] = 1\n",
    "        x += 1\n",
    "sorted_pairs = sorted([(value, key) for (key, value) in freq.items()], reverse = True)      #sorts Ip's into most useful value. \n",
    "outlist = []\n",
    "w = 0 \n",
    "while w != 3:\n",
    "    outlist.append(sorted_pairs[w]) #gets top 3 ip's \n",
    "    w += 1\n",
    "with open('server_summary.txt', 'w') as outfile:        #writes top 3 to summary and amount of Ip's \n",
    "    blu = str(len(ip) - 1)\n",
    "    outfile.write(\"Total amont of IP adresses acessed: \" + blu)\n",
    "    outfile.write(f\"\\nTop 3 pages acessed:{outlist}\")"
   ]
  },
  {
   "cell_type": "code",
   "execution_count": 20,
   "metadata": {},
   "outputs": [
    {
     "name": "stdout",
     "output_type": "stream",
     "text": [
      "+----+------------------+\n",
      "| 30 | Super Shy        |\n",
      "+----+------------------+\n",
      "| 27 | Dance The Night  |\n",
      "+----+------------------+\n",
      "| 25 | Rush             |\n",
      "+----+------------------+\n",
      "| 25 | I Wanna Be Yours |\n",
      "+----+------------------+\n",
      "| 23 | LALA             |\n",
      "+----+------------------+\n",
      "| 21 | Flowers          |\n",
      "+----+------------------+\n",
      "| 21 | Blank Space      |\n",
      "+----+------------------+\n",
      "| 21 | Another Love     |\n",
      "+----+------------------+\n",
      "| 18 | WHERE SHE GOES   |\n",
      "+----+------------------+\n",
      "| 16 | vampire          |\n",
      "+----+------------------+\n"
     ]
    }
   ],
   "source": [
    "from tabulate import tabulate\n",
    "\n",
    "data = []\n",
    "sngnm = []\n",
    "freq = {}\n",
    "with open('spotify_data.csv', 'r') as file:\n",
    "    for line in file:\n",
    "        row = line.rstrip().split(',')\n",
    "        data.append([row[0], row[1], row[2], row[3]])\n",
    "q = 0 \n",
    "while q != len(data):\n",
    "    crack = data[q]\n",
    "    sngnm.append(crack[0])\n",
    "    q += 1\n",
    "\n",
    "x = 0 \n",
    "while x != len(sngnm): #puts Ip adresses into a dicitonary in order to guage frequency\n",
    "    if sngnm[x] in freq:\n",
    "        freq[sngnm[x]] += 1\n",
    "        x += 1\n",
    "    else:\n",
    "        freq[sngnm[x]] = 1\n",
    "        x += 1\n",
    "sorted_pairs = sorted([(value, key) for (key, value) in freq.items()], reverse = True)\n",
    "balls = 0\n",
    "out = []\n",
    "while balls != 10: \n",
    "    out.append(sorted_pairs[balls])\n",
    "    balls += 1\n",
    "print(tabulate(out, tablefmt='grid'))"
   ]
  }
 ],
 "metadata": {
  "kernelspec": {
   "display_name": "Python 3",
   "language": "python",
   "name": "python3"
  },
  "language_info": {
   "codemirror_mode": {
    "name": "ipython",
    "version": 3
   },
   "file_extension": ".py",
   "mimetype": "text/x-python",
   "name": "python",
   "nbconvert_exporter": "python",
   "pygments_lexer": "ipython3",
   "version": "3.10.12"
  }
 },
 "nbformat": 4,
 "nbformat_minor": 2
}
